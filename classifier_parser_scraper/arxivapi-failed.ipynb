{
 "cells": [
  {
   "cell_type": "code",
   "execution_count": 1,
   "metadata": {},
   "outputs": [
    {
     "name": "stdout",
     "output_type": "stream",
     "text": [
      "Requirement already satisfied: undetected-chromedriver in c:\\users\\arshc\\appdata\\roaming\\python\\python312\\site-packages (3.5.5)\n",
      "Requirement already satisfied: selenium>=4.9.0 in c:\\users\\arshc\\appdata\\roaming\\python\\python312\\site-packages (from undetected-chromedriver) (4.27.1)\n",
      "Requirement already satisfied: requests in c:\\users\\arshc\\appdata\\roaming\\python\\python312\\site-packages (from undetected-chromedriver) (2.32.3)\n",
      "Requirement already satisfied: websockets in c:\\users\\arshc\\appdata\\roaming\\python\\python312\\site-packages (from undetected-chromedriver) (14.1)\n",
      "Requirement already satisfied: urllib3<3,>=1.26 in c:\\users\\arshc\\appdata\\roaming\\python\\python312\\site-packages (from urllib3[socks]<3,>=1.26->selenium>=4.9.0->undetected-chromedriver) (2.2.3)\n",
      "Requirement already satisfied: trio~=0.17 in c:\\users\\arshc\\appdata\\roaming\\python\\python312\\site-packages (from selenium>=4.9.0->undetected-chromedriver) (0.27.0)\n",
      "Requirement already satisfied: trio-websocket~=0.9 in c:\\users\\arshc\\appdata\\roaming\\python\\python312\\site-packages (from selenium>=4.9.0->undetected-chromedriver) (0.11.1)\n",
      "Requirement already satisfied: certifi>=2021.10.8 in c:\\users\\arshc\\appdata\\roaming\\python\\python312\\site-packages (from selenium>=4.9.0->undetected-chromedriver) (2024.12.14)\n",
      "Requirement already satisfied: typing_extensions~=4.9 in c:\\users\\arshc\\appdata\\roaming\\python\\python312\\site-packages (from selenium>=4.9.0->undetected-chromedriver) (4.12.2)\n",
      "Requirement already satisfied: websocket-client~=1.8 in c:\\users\\arshc\\appdata\\roaming\\python\\python312\\site-packages (from selenium>=4.9.0->undetected-chromedriver) (1.8.0)\n",
      "Requirement already satisfied: charset-normalizer<4,>=2 in c:\\users\\arshc\\appdata\\roaming\\python\\python312\\site-packages (from requests->undetected-chromedriver) (3.4.0)\n",
      "Requirement already satisfied: idna<4,>=2.5 in c:\\users\\arshc\\appdata\\roaming\\python\\python312\\site-packages (from requests->undetected-chromedriver) (3.10)\n",
      "Requirement already satisfied: attrs>=23.2.0 in c:\\users\\arshc\\appdata\\roaming\\python\\python312\\site-packages (from trio~=0.17->selenium>=4.9.0->undetected-chromedriver) (24.2.0)\n",
      "Requirement already satisfied: sortedcontainers in c:\\users\\arshc\\appdata\\roaming\\python\\python312\\site-packages (from trio~=0.17->selenium>=4.9.0->undetected-chromedriver) (2.4.0)\n",
      "Requirement already satisfied: outcome in c:\\users\\arshc\\appdata\\roaming\\python\\python312\\site-packages (from trio~=0.17->selenium>=4.9.0->undetected-chromedriver) (1.3.0.post0)\n",
      "Requirement already satisfied: sniffio>=1.3.0 in c:\\users\\arshc\\appdata\\roaming\\python\\python312\\site-packages (from trio~=0.17->selenium>=4.9.0->undetected-chromedriver) (1.3.1)\n",
      "Requirement already satisfied: cffi>=1.14 in c:\\users\\arshc\\appdata\\roaming\\python\\python312\\site-packages (from trio~=0.17->selenium>=4.9.0->undetected-chromedriver) (1.17.1)\n",
      "Requirement already satisfied: wsproto>=0.14 in c:\\users\\arshc\\appdata\\roaming\\python\\python312\\site-packages (from trio-websocket~=0.9->selenium>=4.9.0->undetected-chromedriver) (1.2.0)\n",
      "Requirement already satisfied: pysocks!=1.5.7,<2.0,>=1.5.6 in c:\\users\\arshc\\appdata\\roaming\\python\\python312\\site-packages (from urllib3[socks]<3,>=1.26->selenium>=4.9.0->undetected-chromedriver) (1.7.1)\n",
      "Requirement already satisfied: pycparser in c:\\users\\arshc\\appdata\\roaming\\python\\python312\\site-packages (from cffi>=1.14->trio~=0.17->selenium>=4.9.0->undetected-chromedriver) (2.22)\n",
      "Requirement already satisfied: h11<1,>=0.9.0 in c:\\users\\arshc\\appdata\\roaming\\python\\python312\\site-packages (from wsproto>=0.14->trio-websocket~=0.9->selenium>=4.9.0->undetected-chromedriver) (0.14.0)\n",
      "Note: you may need to restart the kernel to use updated packages.\n",
      "Requirement already satisfied: selenium in c:\\users\\arshc\\appdata\\roaming\\python\\python312\\site-packages (4.27.1)\n",
      "Requirement already satisfied: urllib3<3,>=1.26 in c:\\users\\arshc\\appdata\\roaming\\python\\python312\\site-packages (from urllib3[socks]<3,>=1.26->selenium) (2.2.3)\n",
      "Requirement already satisfied: trio~=0.17 in c:\\users\\arshc\\appdata\\roaming\\python\\python312\\site-packages (from selenium) (0.27.0)\n",
      "Requirement already satisfied: trio-websocket~=0.9 in c:\\users\\arshc\\appdata\\roaming\\python\\python312\\site-packages (from selenium) (0.11.1)\n",
      "Requirement already satisfied: certifi>=2021.10.8 in c:\\users\\arshc\\appdata\\roaming\\python\\python312\\site-packages (from selenium) (2024.12.14)\n",
      "Requirement already satisfied: typing_extensions~=4.9 in c:\\users\\arshc\\appdata\\roaming\\python\\python312\\site-packages (from selenium) (4.12.2)\n",
      "Requirement already satisfied: websocket-client~=1.8 in c:\\users\\arshc\\appdata\\roaming\\python\\python312\\site-packages (from selenium) (1.8.0)\n",
      "Requirement already satisfied: attrs>=23.2.0 in c:\\users\\arshc\\appdata\\roaming\\python\\python312\\site-packages (from trio~=0.17->selenium) (24.2.0)\n",
      "Requirement already satisfied: sortedcontainers in c:\\users\\arshc\\appdata\\roaming\\python\\python312\\site-packages (from trio~=0.17->selenium) (2.4.0)\n",
      "Requirement already satisfied: idna in c:\\users\\arshc\\appdata\\roaming\\python\\python312\\site-packages (from trio~=0.17->selenium) (3.10)\n",
      "Requirement already satisfied: outcome in c:\\users\\arshc\\appdata\\roaming\\python\\python312\\site-packages (from trio~=0.17->selenium) (1.3.0.post0)\n",
      "Requirement already satisfied: sniffio>=1.3.0 in c:\\users\\arshc\\appdata\\roaming\\python\\python312\\site-packages (from trio~=0.17->selenium) (1.3.1)\n",
      "Requirement already satisfied: cffi>=1.14 in c:\\users\\arshc\\appdata\\roaming\\python\\python312\\site-packages (from trio~=0.17->selenium) (1.17.1)\n",
      "Requirement already satisfied: wsproto>=0.14 in c:\\users\\arshc\\appdata\\roaming\\python\\python312\\site-packages (from trio-websocket~=0.9->selenium) (1.2.0)\n",
      "Requirement already satisfied: pysocks!=1.5.7,<2.0,>=1.5.6 in c:\\users\\arshc\\appdata\\roaming\\python\\python312\\site-packages (from urllib3[socks]<3,>=1.26->selenium) (1.7.1)\n",
      "Requirement already satisfied: pycparser in c:\\users\\arshc\\appdata\\roaming\\python\\python312\\site-packages (from cffi>=1.14->trio~=0.17->selenium) (2.22)\n",
      "Requirement already satisfied: h11<1,>=0.9.0 in c:\\users\\arshc\\appdata\\roaming\\python\\python312\\site-packages (from wsproto>=0.14->trio-websocket~=0.9->selenium) (0.14.0)\n",
      "Note: you may need to restart the kernel to use updated packages.\n"
     ]
    }
   ],
   "source": [
    "%pip install undetected-chromedriver\n",
    "%pip install selenium"
   ]
  },
  {
   "cell_type": "code",
   "execution_count": 2,
   "metadata": {},
   "outputs": [],
   "source": [
    "from bs4 import BeautifulSoup\n",
    "import json\n",
    "import os\n",
    "import time\n",
    "import undetected_chromedriver as uc\n",
    "import re\n",
    "from selenium.webdriver.common.by import By\n",
    "from selenium.webdriver.support.ui import WebDriverWait\n",
    "from selenium.webdriver.support import expected_conditions as EC\n",
    "from selenium.common.exceptions import TimeoutException"
   ]
  },
  {
   "cell_type": "code",
   "execution_count": 3,
   "metadata": {},
   "outputs": [
    {
     "name": "stdout",
     "output_type": "stream",
     "text": [
      "Requirement already satisfied: requests in c:\\users\\arshc\\appdata\\roaming\\python\\python312\\site-packages (2.32.3)\n",
      "Requirement already satisfied: PyPDF2 in c:\\users\\arshc\\anaconda3\\lib\\site-packages (3.0.1)\n",
      "Requirement already satisfied: pdfplumber in c:\\users\\arshc\\anaconda3\\lib\\site-packages (0.11.5)\n",
      "Requirement already satisfied: charset-normalizer<4,>=2 in c:\\users\\arshc\\appdata\\roaming\\python\\python312\\site-packages (from requests) (3.4.0)\n",
      "Requirement already satisfied: idna<4,>=2.5 in c:\\users\\arshc\\appdata\\roaming\\python\\python312\\site-packages (from requests) (3.10)\n",
      "Requirement already satisfied: urllib3<3,>=1.21.1 in c:\\users\\arshc\\appdata\\roaming\\python\\python312\\site-packages (from requests) (2.2.3)\n",
      "Requirement already satisfied: certifi>=2017.4.17 in c:\\users\\arshc\\appdata\\roaming\\python\\python312\\site-packages (from requests) (2024.12.14)\n",
      "Requirement already satisfied: pdfminer.six==20231228 in c:\\users\\arshc\\anaconda3\\lib\\site-packages (from pdfplumber) (20231228)\n",
      "Requirement already satisfied: Pillow>=9.1 in c:\\users\\arshc\\appdata\\roaming\\python\\python312\\site-packages (from pdfplumber) (10.1.0)\n",
      "Requirement already satisfied: pypdfium2>=4.18.0 in c:\\users\\arshc\\anaconda3\\lib\\site-packages (from pdfplumber) (4.30.1)\n",
      "Requirement already satisfied: cryptography>=36.0.0 in c:\\users\\arshc\\anaconda3\\lib\\site-packages (from pdfminer.six==20231228->pdfplumber) (43.0.0)\n",
      "Requirement already satisfied: cffi>=1.12 in c:\\users\\arshc\\appdata\\roaming\\python\\python312\\site-packages (from cryptography>=36.0.0->pdfminer.six==20231228->pdfplumber) (1.17.1)\n",
      "Requirement already satisfied: pycparser in c:\\users\\arshc\\appdata\\roaming\\python\\python312\\site-packages (from cffi>=1.12->cryptography>=36.0.0->pdfminer.six==20231228->pdfplumber) (2.22)\n",
      "Note: you may need to restart the kernel to use updated packages.\n"
     ]
    }
   ],
   "source": [
    "%pip install requests PyPDF2 pdfplumber"
   ]
  },
  {
   "cell_type": "code",
   "execution_count": 34,
   "metadata": {},
   "outputs": [],
   "source": [
    "from selenium import webdriver\n",
    "from selenium.webdriver.common.by import By\n",
    "from selenium.webdriver.support.ui import WebDriverWait\n",
    "from selenium.webdriver.support import expected_conditions as EC\n",
    "from selenium.common.exceptions import TimeoutException, NoSuchElementException\n",
    "import time\n",
    "import requests\n",
    "import PyPDF2\n",
    "import json\n",
    "from io import BytesIO"
   ]
  },
  {
   "cell_type": "code",
   "execution_count": 8,
   "metadata": {},
   "outputs": [],
   "source": [
    "import requests\n",
    "import PyPDF2\n",
    "from io import BytesIO\n"
   ]
  },
  {
   "cell_type": "code",
   "execution_count": 11,
   "metadata": {},
   "outputs": [],
   "source": [
    "def findJournalContent(pdf_url):\n",
    "    \n",
    "    response = requests.get(pdf_url)\n",
    "\n",
    "    if response.status_code == 200:\n",
    "        pdf_file = BytesIO(response.content)\n",
    "\n",
    "        pdf_reader = PyPDF2.PdfReader(pdf_file)\n",
    "        text = \"\"\n",
    "\n",
    "        for page_num in range(len(pdf_reader.pages)):\n",
    "            page = pdf_reader.pages[page_num]\n",
    "            text += page.extract_text()\n",
    "\n",
    "        print(text)\n",
    "    \n",
    "    else:\n",
    "        print(\"Failed to retrieve the PDF. Status code:\", response.status_code)"
   ]
  },
  {
   "cell_type": "code",
   "execution_count": 14,
   "metadata": {},
   "outputs": [],
   "source": [
    "pdf_url = \"https://arxiv.org/pdf/2501.11025\"  \n",
    "# content = findJournalContent(pdf_url)"
   ]
  },
  {
   "cell_type": "code",
   "execution_count": 31,
   "metadata": {},
   "outputs": [],
   "source": [
    "def findJournalContent(pdf_url, pdf_address, file=\"catalyst_journals.json\"):\n",
    "    driver = webdriver.Chrome()\n",
    "    driver.get(pdf_url)\n",
    "    \n",
    "    try:\n",
    "        WebDriverWait(driver, 10).until(\n",
    "            EC.presence_of_element_located((By.TAG_NAME, \"embed\"))\n",
    "        )\n",
    "        print(f\"PDF found: {pdf_url}\")\n",
    "\n",
    "        response = requests.get(pdf_url, timeout=10)\n",
    "        if response.status_code == 200:\n",
    "            pdf_file = BytesIO(response.content)\n",
    "            pdf_reader = PyPDF2.PdfReader(pdf_file)\n",
    "            text = \"\"\n",
    "\n",
    "            for page_num in range(len(pdf_reader.pages)):\n",
    "                page = pdf_reader.pages[page_num]\n",
    "                text += page.extract_text()\n",
    "\n",
    "            try:\n",
    "                with open(file, \"r\") as f:\n",
    "                    data = json.load(f)\n",
    "            except:\n",
    "                data = {}\n",
    "\n",
    "\n",
    "            data[pdf_address] = text\n",
    "\n",
    "            with open(file, \"w\") as f:\n",
    "                json.dump(data, f, indent=4)\n",
    "\n",
    "            # print(f\"PDF text added to {file} under key {pdf_address}\")\n",
    "        else:\n",
    "            print(\"Failed to download the PDF. Status code:\", response.status_code)\n",
    "\n",
    "    except TimeoutException:\n",
    "        print(\"Unable to find the PDF within 10 seconds.\")\n",
    "    except NoSuchElementException:\n",
    "        print(\"PDF element not found on the page.\")\n",
    "    finally:\n",
    "        driver.quit()\n",
    "\n"
   ]
  },
  {
   "cell_type": "code",
   "execution_count": 35,
   "metadata": {},
   "outputs": [
    {
     "name": "stdout",
     "output_type": "stream",
     "text": [
      "PDF found: https://arxiv.org/pdf/2501.11025\n"
     ]
    }
   ],
   "source": [
    "pdf_url = \"https://arxiv.org/pdf/2501.11025\"  \n",
    "content = findJournalContent(pdf_url,\"2501_11025\")"
   ]
  },
  {
   "cell_type": "code",
   "execution_count": 23,
   "metadata": {},
   "outputs": [],
   "source": [
    "import requests\n",
    "from bs4 import BeautifulSoup\n",
    "\n",
    "def find_arxiv_pdf_links_dict(query, pages=1):\n",
    "    base_url = \"https://arxiv.org/search/\"\n",
    "    pdf_links_dict = {}\n",
    "\n",
    "    for start in range(0, pages * 50, 50):\n",
    "        url = f\"{base_url}?query={query}&searchtype=all&source=header&start={start}\"\n",
    "        print(f\"Scraping page: {url}\")\n",
    "        \n",
    "        response = requests.get(url)\n",
    "        if response.status_code != 200:\n",
    "            print(f\"Failed to fetch page {start // 50 + 1}. Status Code: {response.status_code}\")\n",
    "            continue\n",
    "        \n",
    " \n",
    "        soup = BeautifulSoup(response.content, 'html.parser')\n",
    "\n",
    "        links = soup.find_all('a', href=lambda href: href and href.startswith(\"https://arxiv.org/pdf/\"))\n",
    "        for link in links:\n",
    "            href = link['href']\n",
    "            \n",
    "            pdf_address = href.split('/')[-1]\n",
    "            pdf_address=pdf_address.replace('.', '_') \n",
    "            pdf_links_dict[pdf_address] = href\n",
    "\n",
    "    return pdf_links_dict\n",
    "\n",
    "\n"
   ]
  },
  {
   "cell_type": "code",
   "execution_count": 27,
   "metadata": {},
   "outputs": [
    {
     "name": "stdout",
     "output_type": "stream",
     "text": [
      "Scraping page: https://arxiv.org/search/?query=catalyst&searchtype=all&source=header&start=0\n",
      "50 PDF links scraped:\n",
      "2501_12283: https://arxiv.org/pdf/2501.12283\n",
      "2501_11025: https://arxiv.org/pdf/2501.11025\n",
      "2501_10954: https://arxiv.org/pdf/2501.10954\n",
      "2501_10706: https://arxiv.org/pdf/2501.10706\n",
      "2501_10378: https://arxiv.org/pdf/2501.10378\n"
     ]
    }
   ],
   "source": [
    "query = \"catalyst\"\n",
    "pdf_links_dict = find_arxiv_pdf_links_dict(query, pages=1)\n",
    "\n",
    "print(f\"{len(pdf_links_dict)} PDF links scraped:\")\n",
    "cnt=0\n",
    "for key, link in pdf_links_dict.items():\n",
    "    print(f\"{key}: {link}\")\n",
    "    #displaying only first 5 pdfs\n",
    "    cnt+=1\n",
    "    if cnt==5:\n",
    "        break"
   ]
  },
  {
   "cell_type": "code",
   "execution_count": null,
   "metadata": {},
   "outputs": [],
   "source": []
  }
 ],
 "metadata": {
  "kernelspec": {
   "display_name": "base",
   "language": "python",
   "name": "python3"
  },
  "language_info": {
   "codemirror_mode": {
    "name": "ipython",
    "version": 3
   },
   "file_extension": ".py",
   "mimetype": "text/x-python",
   "name": "python",
   "nbconvert_exporter": "python",
   "pygments_lexer": "ipython3",
   "version": "3.12.7"
  }
 },
 "nbformat": 4,
 "nbformat_minor": 2
}
